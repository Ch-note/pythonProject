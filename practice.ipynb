{
 "cells": [
  {
   "cell_type": "code",
   "execution_count": 1,
   "id": "406fff40",
   "metadata": {},
   "outputs": [
    {
     "name": "stdout",
     "output_type": "stream",
     "text": [
      "12345600\n"
     ]
    }
   ],
   "source": [
    "pay = 12345678\n",
    "print(pay - pay % 100) "
   ]
  },
  {
   "cell_type": "code",
   "execution_count": null,
   "id": "47ec0493",
   "metadata": {},
   "outputs": [
    {
     "ename": "SyntaxError",
     "evalue": "invalid syntax (4156393344.py, line 3)",
     "output_type": "error",
     "traceback": [
      "  \u001b[36mCell\u001b[39m\u001b[36m \u001b[39m\u001b[32mIn[2]\u001b[39m\u001b[32m, line 3\u001b[39m\n\u001b[31m    \u001b[39m\u001b[31mc =\u001b[39m\n            ^\n\u001b[31mSyntaxError\u001b[39m\u001b[31m:\u001b[39m invalid syntax\n"
     ]
    }
   ],
   "source": [
    "a = int(input(\"숫자를 입력하세요:\"))\n",
    "b = int(input(\"몇 번째 자리로 갈까요:\"))\n",
    "\n",
    "c = (a // (10 ** (b - 1))) % 10\n",
    "print(c)\n",
    "\n"
   ]
  },
  {
   "cell_type": "code",
   "execution_count": null,
   "id": "0b66ac05",
   "metadata": {},
   "outputs": [],
   "source": [
    "num = int(input(\"숫자를 입력하세요:\"))\n",
    "if num % 2 == 0:\n",
    "    print(\"짝수입니다.\")\n",
    "else:\n",
    "    print(\"홀수입니다.\")"
   ]
  },
  {
   "cell_type": "code",
   "execution_count": null,
   "id": "349c388e",
   "metadata": {},
   "outputs": [],
   "source": [
    "score = int(input(\"점수를 입력하세요:\"))\n",
    "if score >= 90:\n",
    "    print(\"A\")  \n",
    "elif score >= 80 and score < 90:\n",
    "    print(\"B\")\n",
    "elif score >= 70 and score < 80:\n",
    "    print(\"C\")\n",
    "elif score >= 60 and score < 70:\n",
    "    print(\"D\")\n",
    "  \n",
    "elif score < 60 and score >= 0:\n",
    "    print(\"F\")\n"
   ]
  },
  {
   "cell_type": "code",
   "execution_count": null,
   "id": "2a1e051f",
   "metadata": {},
   "outputs": [
    {
     "name": "stdout",
     "output_type": "stream",
     "text": [
      "3628800\n"
     ]
    }
   ],
   "source": [
    "temp = 0\n",
    "for i in range(1,11):\n",
    "    temp += i\n",
    "print(temp)\n"
   ]
  },
  {
   "cell_type": "code",
   "execution_count": null,
   "id": "4fec990d",
   "metadata": {},
   "outputs": [],
   "source": [
    "temp = 1\n",
    "for i in range(1,11):\n",
    "    temp *= i\n",
    "print(temp)"
   ]
  },
  {
   "cell_type": "code",
   "execution_count": null,
   "id": "dc3e980d",
   "metadata": {},
   "outputs": [],
   "source": [
    "n = int(input(\"몇 번째 구구단까지 출력할까요:\"))\n",
    "\n",
    "for i in range(1,n+1):\n",
    "    for j in range(1,10):\n",
    "        print(f\"{i} x {j} = {i*j}\")"
   ]
  },
  {
   "cell_type": "code",
   "execution_count": null,
   "id": "0f66ace0",
   "metadata": {},
   "outputs": [],
   "source": [
    "n = int(input(\"숫자를 입력하세요:\"))\n",
    "a = 0\n",
    "sum = 0 \n",
    "while a <= n:\n",
    "    print(a)\n",
    "    a += 1\n",
    "    sum += a\n"
   ]
  }
 ],
 "metadata": {
  "kernelspec": {
   "display_name": "Python 3",
   "language": "python",
   "name": "python3"
  },
  "language_info": {
   "codemirror_mode": {
    "name": "ipython",
    "version": 3
   },
   "file_extension": ".py",
   "mimetype": "text/x-python",
   "name": "python",
   "nbconvert_exporter": "python",
   "pygments_lexer": "ipython3",
   "version": "3.11.8"
  }
 },
 "nbformat": 4,
 "nbformat_minor": 5
}
