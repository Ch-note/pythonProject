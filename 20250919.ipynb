{
 "cells": [
  {
   "cell_type": "code",
   "execution_count": 12,
   "id": "5951b4b5",
   "metadata": {},
   "outputs": [
    {
     "name": "stdout",
     "output_type": "stream",
     "text": [
      "2\n"
     ]
    }
   ],
   "source": [
    "num1 = 1\n",
    "num2 = 2\n",
    "print(num1 * num2)"
   ]
  },
  {
   "cell_type": "code",
   "execution_count": 13,
   "id": "68be5995",
   "metadata": {},
   "outputs": [],
   "source": [
    "num3 = 3\n"
   ]
  },
  {
   "cell_type": "markdown",
   "id": "2a593fc9",
   "metadata": {},
   "source": []
  },
  {
   "cell_type": "code",
   "execution_count": null,
   "id": "8054b559",
   "metadata": {},
   "outputs": [],
   "source": []
  },
  {
   "cell_type": "code",
   "execution_count": 14,
   "id": "2993b03e",
   "metadata": {},
   "outputs": [
    {
     "data": {
      "text/plain": [
       "'Hello'"
      ]
     },
     "execution_count": 14,
     "metadata": {},
     "output_type": "execute_result"
    }
   ],
   "source": [
    "\"Hello\""
   ]
  },
  {
   "cell_type": "code",
   "execution_count": 15,
   "id": "574bee63",
   "metadata": {},
   "outputs": [
    {
     "name": "stdout",
     "output_type": "stream",
     "text": [
      "'낮말'은 새가 듣고 '밤말'은 쥐가 듣는다.\n"
     ]
    }
   ],
   "source": [
    "print(\"'낮말'은 새가 듣고 '밤말'은 쥐가 듣는다.\")"
   ]
  },
  {
   "cell_type": "code",
   "execution_count": 16,
   "id": "6c4b6a20",
   "metadata": {},
   "outputs": [
    {
     "name": "stdout",
     "output_type": "stream",
     "text": [
      "'낮말'은 새가 듣고 '밤말'은 쥐가 듣는다.\n"
     ]
    }
   ],
   "source": [
    "print(\"\\'낮말\\'은 새가 듣고 \\'밤말\\'은 쥐가 듣는다.\")"
   ]
  },
  {
   "cell_type": "code",
   "execution_count": null,
   "id": "01309a19",
   "metadata": {},
   "outputs": [],
   "source": []
  },
  {
   "cell_type": "code",
   "execution_count": null,
   "id": "c5c7126e",
   "metadata": {},
   "outputs": [],
   "source": [
    "##편의점 음식 꿀맛\n",
    "ramen = 2000\n",
    "bread = 1500\n",
    "soda = 2000\n",
    "snack = 1500\n",
    "\n",
    "ramen_eat = int(input(\"라면 몇 개를 먹었나요?:\"))\n",
    "bread_eat = int(input(\"빵 몇 개를 먹었나요?:\"))\n",
    "soda_eat = int(input(\"음료 몇 개를 먹었나요?:\"))\n",
    "snack_eat = int(input(\"과자 몇 개를 먹었나요?:\"))\n",
    "total = (ramen * ramen_eat) + (bread * bread_eat) + (soda * soda_eat) + (snack * snack_eat)\n",
    "print(f\"계산서: 라면 {ramen_eat}개, 빵{bread_eat}개, 음료{soda_eat}개, 과자{snack_eat}개로 총 {total}원 입니다.\"   )\n",
    "\n"
   ]
  }
 ],
 "metadata": {
  "kernelspec": {
   "display_name": "Python 3",
   "language": "python",
   "name": "python3"
  },
  "language_info": {
   "codemirror_mode": {
    "name": "ipython",
    "version": 3
   },
   "file_extension": ".py",
   "mimetype": "text/x-python",
   "name": "python",
   "nbconvert_exporter": "python",
   "pygments_lexer": "ipython3",
   "version": "3.11.8"
  }
 },
 "nbformat": 4,
 "nbformat_minor": 5
}
